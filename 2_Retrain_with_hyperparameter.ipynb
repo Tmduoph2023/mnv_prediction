{
 "cells": [
  {
   "cell_type": "code",
   "execution_count": null,
   "id": "9b9f95f1-c2c5-4652-a858-61fa376879c4",
   "metadata": {},
   "outputs": [],
   "source": [
    "import torch\n",
    "import torch.nn as nn\n",
    "import torch.optim as optim\n",
    "from torch.utils.data import DataLoader\n",
    "from torchvision import models, transforms, datasets\n",
    "from collections import Counter\n",
    "import joblib\n",
    "from tqdm.notebook import tqdm\n",
    "import time\n",
    "import os"
   ]
  },
  {
   "cell_type": "code",
   "execution_count": null,
   "id": "72d482db-20a0-4e2f-a010-00589daf5df7",
   "metadata": {},
   "outputs": [],
   "source": [
    "device = torch.device(\"cuda\" if torch.cuda.is_available() else \"cpu\")\n",
    "print(f\"Using device: {device}\")"
   ]
  },
  {
   "cell_type": "code",
   "execution_count": null,
   "id": "3ee731e7-6244-4407-a104-7ad667c46e35",
   "metadata": {},
   "outputs": [],
   "source": [
    "study = joblib.load(\"your own path of hyperparameters\")\n",
    "best_params = study.best_params"
   ]
  },
  {
   "cell_type": "code",
   "execution_count": null,
   "id": "6f62fac9-f6bd-437a-be7e-e92c06acbd5a",
   "metadata": {},
   "outputs": [],
   "source": [
    "lr = best_params['lr']\n",
    "batch_size = best_params['batch_size']\n",
    "optimizer_choice = best_params['optimizer']\n",
    "weight_decay = best_params['weight_decay']\n",
    "dropout_rate = best_params['dropout']\n",
    "epochs = best_params[\"epochs\"]"
   ]
  },
  {
   "cell_type": "code",
   "execution_count": null,
   "id": "a37eca99-578b-46ef-b947-119af49bcbe7",
   "metadata": {},
   "outputs": [],
   "source": [
    "train_dir = \"your own path of training dataset\"  \n",
    "\n",
    "transform = transforms.Compose([transforms.Resize((456, 456)),\n",
    "                                      transforms.RandomHorizontalFlip(), \n",
    "                                      transforms.RandomVerticalFlip(),\n",
    "                                      transforms.ToTensor(), \n",
    "                                      transforms.Normalize([0.485, 0.456, 0.406], [0.229, 0.224, 0.225])\n",
    "                                     ])\n",
    "\n",
    "train_dataset = datasets.ImageFolder(root=train_dir, transform=transform)\n",
    "train_loader = DataLoader(train_dataset, batch_size=batch_size, shuffle=True)"
   ]
  },
  {
   "cell_type": "code",
   "execution_count": null,
   "id": "668ab05c-878f-418c-917e-327cce8dd9c3",
   "metadata": {},
   "outputs": [],
   "source": [
    "num_classes = 2  \n",
    "\n",
    "model = models.densenet121(weights=models.DenseNet121_Weights.IMAGENET1K_V1)\n",
    "for param in model.parameters():\n",
    "    param.requires_grad = False\n",
    "\n",
    "in_features = model.classifier.in_features\n",
    "model.classifier = nn.Sequential(\n",
    "    nn.Dropout(p=best_params['dropout']),\n",
    "    nn.Linear(in_features, num_classes)\n",
    ")\n",
    "model = model.to(device)"
   ]
  },
  {
   "cell_type": "code",
   "execution_count": null,
   "id": "cd6f23d3-304f-44a6-9068-1453f4258f57",
   "metadata": {},
   "outputs": [],
   "source": [
    "criterion = nn.CrossEntropyLoss()\n",
    "if best_params['optimizer'] == 'Adam':\n",
    "    optimizer = optim.Adam(model.classifier.parameters(), lr=best_params['lr'], weight_decay=best_params['weight_decay'])\n",
    "else:\n",
    "    optimizer = optim.SGD(model.classifier.parameters(), lr=best_params['lr'], weight_decay=best_params['weight_decay'], momentum=0.9)"
   ]
  },
  {
   "cell_type": "code",
   "execution_count": null,
   "id": "077c4f5b-95e5-48d8-957f-dffe810c3c4e",
   "metadata": {},
   "outputs": [],
   "source": [
    "import copy\n",
    "\n",
    "num_epochs = best_params['epochs']\n",
    "early_stopping_patience = 5\n",
    "\n",
    "best_loss = float('inf')\n",
    "epochs_no_improve = 0\n",
    "best_model_wts = copy.deepcopy(model.state_dict())  \n",
    "\n",
    "for epoch in range(num_epochs):\n",
    "    model.train()\n",
    "    running_loss = 0.0\n",
    "\n",
    "    for inputs, labels in tqdm(train_loader, desc=f\"Epoch {epoch+1}/{num_epochs}\", leave=True, ncols=100):\n",
    "        inputs, labels = inputs.to(device), labels.to(device)\n",
    "        optimizer.zero_grad()\n",
    "        outputs = model(inputs)\n",
    "        loss = criterion(outputs, labels)\n",
    "\n",
    "        if torch.isnan(loss):\n",
    "            print(\"Loss is NaN. Skipping batch.\")\n",
    "            continue\n",
    "\n",
    "        loss.backward()\n",
    "        optimizer.step()\n",
    "        running_loss += loss.item()\n",
    "\n",
    "    epoch_loss = running_loss / len(train_loader)\n",
    "    print(f\"[{epoch+1}/{num_epochs}] Loss: {epoch_loss:.4f}\")\n",
    "\n",
    "    if epoch_loss < best_loss:\n",
    "        best_loss = epoch_loss\n",
    "        best_model_wts = copy.deepcopy(model.state_dict())\n",
    "        torch.save(model.state_dict(), \"best_model.pth\")\n",
    "        print(f\"Loss improved. Model saved.\")\n",
    "        epochs_no_improve = 0\n",
    "    else:\n",
    "        epochs_no_improve += 1\n",
    "        print(f\"No improvement. Patience: {epochs_no_improve}/{early_stopping_patience}\")\n",
    "        if epochs_no_improve >= early_stopping_patience:\n",
    "            print(\"Early stopping triggered.\")\n",
    "            break\n",
    "\n",
    "model.load_state_dict(best_model_wts)"
   ]
  }
 ],
 "metadata": {
  "kernelspec": {
   "display_name": "Python 3 (ipykernel)",
   "language": "python",
   "name": "python3"
  },
  "language_info": {
   "codemirror_mode": {
    "name": "ipython",
    "version": 3
   },
   "file_extension": ".py",
   "mimetype": "text/x-python",
   "name": "python",
   "nbconvert_exporter": "python",
   "pygments_lexer": "ipython3",
   "version": "3.11.8"
  }
 },
 "nbformat": 4,
 "nbformat_minor": 5
}
