{
 "cells": [
  {
   "cell_type": "code",
   "execution_count": null,
   "id": "656c5a5c-3dd6-4a55-95ed-dd5663282e15",
   "metadata": {},
   "outputs": [],
   "source": [
    "import torch\n",
    "from torchvision import models\n",
    "from torch import nn\n",
    "import torch.nn.functional as F\n",
    "import numpy as np\n",
    "from sklearn.metrics import (\n",
    "    roc_curve, accuracy_score, recall_score, precision_score, f1_score,\n",
    "    confusion_matrix, roc_auc_score\n",
    ")\n",
    "import matplotlib.pyplot as plt\n",
    "import joblib\n",
    "from torchvision import datasets, transforms\n",
    "from torch.utils.data import DataLoader\n",
    "from statsmodels.stats.proportion import proportion_confint\n",
    "from sklearn.metrics import (\n",
    "    roc_auc_score, roc_curve, precision_recall_curve,\n",
    "    confusion_matrix, classification_report, average_precision_score\n",
    ")"
   ]
  },
  {
   "cell_type": "code",
   "execution_count": null,
   "id": "5188b9be-300f-4a8c-b197-ccc76225d5de",
   "metadata": {},
   "outputs": [],
   "source": [
    "device = torch.device(\"cuda\" if torch.cuda.is_available() else \"cpu\")\n",
    "print(f\"Using device: {device}\")"
   ]
  },
  {
   "cell_type": "code",
   "execution_count": null,
   "id": "acf84f78-da16-46f0-8181-79ac6aa09623",
   "metadata": {},
   "outputs": [],
   "source": [
    "study = joblib.load(\"found hyperparameters\")\n",
    "best_params = study.best_params\n",
    "dropout_rate = best_params['dropout']\n",
    "batch_size = best_params['batch_size']\n",
    "\n",
    "num_classes = 2"
   ]
  },
  {
   "cell_type": "code",
   "execution_count": null,
   "id": "6d3e0ccf-224c-452d-8112-454c41058425",
   "metadata": {},
   "outputs": [],
   "source": [
    "model = models.densenet121(weights=models.DenseNet121_Weights.IMAGENET1K_V1)\n",
    "for param in model.parameters():\n",
    "    param.requires_grad = False\n",
    "\n",
    "in_features = model.classifier.in_features\n",
    "model.classifier = nn.Sequential(\n",
    "    nn.Dropout(p=dropout_rate),\n",
    "    nn.Linear(in_features, num_classes)\n",
    ")\n",
    "model = model.to(device)"
   ]
  },
  {
   "cell_type": "code",
   "execution_count": null,
   "id": "a3f9c3cb-370d-4c3f-b614-786f72b18509",
   "metadata": {
    "scrolled": true
   },
   "outputs": [],
   "source": [
    "model.load_state_dict(torch.load(\"your own trained best model\"))\n",
    "model.eval()"
   ]
  },
  {
   "cell_type": "code",
   "execution_count": null,
   "id": "95144fce-70c0-41e1-ab30-0647852c0f8c",
   "metadata": {},
   "outputs": [],
   "source": [
    "valid_dir = \"your own validation or test dataset path\"  \n",
    "\n",
    "valid_transform = transforms.Compose([transforms.Resize((456, 456)), \n",
    "                                     transforms.ToTensor(),\n",
    "                                     transforms.Normalize(\n",
    "                                         mean=[0.485, 0.456, 0.406], \n",
    "                                         std=[0.229, 0.224, 0.225])\n",
    "                                    ])\n",
    "\n",
    "valid_dataset = datasets.ImageFolder(root=valid_dir, transform=valid_transform)\n",
    "valid_loader = DataLoader(valid_dataset, batch_size=batch_size, shuffle=False)"
   ]
  },
  {
   "cell_type": "code",
   "execution_count": null,
   "id": "32f3ff1b-f89a-4691-9c2d-92b46a3f0736",
   "metadata": {},
   "outputs": [],
   "source": [
    "all_probs, all_labels = [], []\n",
    "\n",
    "with torch.no_grad():\n",
    "    for inputs, labels in valid_loader:\n",
    "        inputs = inputs.to(device)\n",
    "        labels = labels.to(device)\n",
    "\n",
    "        outputs = model(inputs)\n",
    "        probs = F.softmax(outputs, dim=1)[:, 1]  \n",
    "\n",
    "        all_probs.extend(probs.cpu().numpy())\n",
    "        all_labels.extend(labels.cpu().numpy())\n",
    "\n",
    "all_probs = np.array(all_probs)\n",
    "all_labels = np.array(all_labels)"
   ]
  },
  {
   "cell_type": "code",
   "execution_count": null,
   "id": "862f4279-eba7-4681-8d0e-e525b836317c",
   "metadata": {},
   "outputs": [],
   "source": [
    "fpr, tpr, thresholds = roc_curve(all_labels, all_probs)\n",
    "youden_index = tpr - fpr\n",
    "best_threshold = thresholds[np.argmax(youden_index)]\n",
    "\n",
    "print(f\"Best threshold by Youden's index: {best_threshold:.4f}\")"
   ]
  },
  {
   "cell_type": "code",
   "execution_count": null,
   "id": "7313c967-2de7-4656-a273-e72846006155",
   "metadata": {},
   "outputs": [],
   "source": [
    "pred_labels = (all_probs >= best_threshold).astype(int)"
   ]
  },
  {
   "cell_type": "code",
   "execution_count": null,
   "id": "9d9b8265-2b34-4ccc-a03a-94aee878a4ef",
   "metadata": {},
   "outputs": [],
   "source": [
    "def bootstrap_ci(metric_func, labels, preds, n_bootstraps=1000, alpha=0.05):\n",
    "    rng = np.random.RandomState(42)\n",
    "    scores = []\n",
    "    for _ in range(n_bootstraps):\n",
    "        indices = rng.randint(0, len(labels), len(labels))\n",
    "        if len(np.unique(labels[indices])) < 2:\n",
    "            continue\n",
    "        score = metric_func(labels[indices], preds[indices])\n",
    "        scores.append(score)\n",
    "    scores = np.array(scores)\n",
    "    lower = np.percentile(scores, 100 * alpha / 2)\n",
    "    upper = np.percentile(scores, 100 * (1 - alpha / 2))\n",
    "    return lower, upper"
   ]
  },
  {
   "cell_type": "code",
   "execution_count": null,
   "id": "fbaadaff-32a5-4775-949d-25deaeecca6e",
   "metadata": {},
   "outputs": [],
   "source": [
    "auc = roc_auc_score(all_labels, all_probs)\n",
    "auc_ci = bootstrap_ci(roc_auc_score, all_labels, all_probs)\n",
    "\n",
    "ap_score = average_precision_score(all_labels, all_probs)\n",
    "ap_ci = bootstrap_ci(average_precision_score, all_labels, all_probs)"
   ]
  },
  {
   "cell_type": "code",
   "execution_count": null,
   "id": "5d625a65-1157-4e17-9737-97ef530deee7",
   "metadata": {},
   "outputs": [],
   "source": [
    "cm = confusion_matrix(all_labels, pred_labels)"
   ]
  }
 ],
 "metadata": {
  "kernelspec": {
   "display_name": "Python 3 (ipykernel)",
   "language": "python",
   "name": "python3"
  },
  "language_info": {
   "codemirror_mode": {
    "name": "ipython",
    "version": 3
   },
   "file_extension": ".py",
   "mimetype": "text/x-python",
   "name": "python",
   "nbconvert_exporter": "python",
   "pygments_lexer": "ipython3",
   "version": "3.11.8"
  }
 },
 "nbformat": 4,
 "nbformat_minor": 5
}
